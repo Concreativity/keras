{
 "cells": [
  {
   "cell_type": "markdown",
   "metadata": {},
   "source": [
    "# Multilayer perceptron(MLP)"
   ]
  },
  {
   "cell_type": "markdown",
   "metadata": {},
   "source": [
    "## One-hot encoding for multi class classification"
   ]
  },
  {
   "cell_type": "markdown",
   "metadata": {},
   "source": [
    "### Integer encoding\n",
    "- 수학과 &rightarrow; 0\n",
    "- 생명과학과 &rightarrow; 1\n",
    "- 물리학과 &rightarrow; 2\n",
    "- 화학과 &rightarrow; 3\n",
    "\n",
    "### One-Hot encoding\n",
    "- 0 &rightarrow; [1,0,0,0]\n",
    "- 1 &rightarrow; [0,1,0,0]\n",
    "- 2 &rightarrow; [0,0,1,0]\n",
    "- 3 &rightarrow; [0,0,0,1]"
   ]
  },
  {
   "cell_type": "code",
   "execution_count": 1,
   "metadata": {
    "scrolled": true
   },
   "outputs": [],
   "source": [
    "import numpy as np\n",
    "import tensorflow as tf"
   ]
  },
  {
   "cell_type": "code",
   "execution_count": 2,
   "metadata": {},
   "outputs": [
    {
     "name": "stdout",
     "output_type": "stream",
     "text": [
      "[[1. 0. 0. 0.]\n",
      " [0. 1. 0. 0.]\n",
      " [0. 0. 1. 0.]\n",
      " [0. 0. 0. 1.]]\n"
     ]
    }
   ],
   "source": [
    "sess = tf.InteractiveSession()\n",
    "x = tf.constant([0, 1, 2, 3])\n",
    "one_hot = tf.one_hot(x, depth=4)\n",
    "print(one_hot.eval())\n",
    "sess.close()"
   ]
  },
  {
   "cell_type": "markdown",
   "metadata": {},
   "source": [
    "## Output of MLP"
   ]
  },
  {
   "cell_type": "markdown",
   "metadata": {},
   "source": [
    "![mlp](./mlp.png)\n",
    "\n",
    "<div align=\"right\">\n",
    "http://cs231n.github.io/neural-networks-1/\n",
    "    </div>"
   ]
  },
  {
   "cell_type": "markdown",
   "metadata": {},
   "source": [
    "### possible activation?\n",
    "\n",
    "$$\\mathbf{x}'[i] = \\begin{cases}\n",
    "1\\quad \\text{if} \\; \\max(\\mathbf{x})=\\mathbf{x}[i]\\\\\n",
    "0 \\quad \\text{otherwise}\n",
    "\\end{cases}$$"
   ]
  },
  {
   "cell_type": "markdown",
   "metadata": {},
   "source": [
    "### possible activation?\n",
    "$$\\mathbf{x}'[i] = \\frac{\\mathbf{x}[i]-\\min(\\mathbf{x})}{\\max(\\mathbf{x})-\\min(\\mathbf{x})}$$"
   ]
  },
  {
   "cell_type": "markdown",
   "metadata": {},
   "source": [
    "### Softmax activation\n",
    "$$ f(\\mathbf{x})[i] = \\frac{\\mathrm{e}^{\\mathbf{x}[i]}}{\\sum_{k=1}^{K}\\mathrm{e}^{\\mathbf{x}[i]}}$$"
   ]
  },
  {
   "cell_type": "code",
   "execution_count": 3,
   "metadata": {},
   "outputs": [
    {
     "name": "stdout",
     "output_type": "stream",
     "text": [
      "[0.836575   0.00417584 0.04603105 0.11321811]\n",
      "1.0\n"
     ]
    }
   ],
   "source": [
    "sess = tf.InteractiveSession()\n",
    "x = tf.constant([4, -1.3, 1.1, 2], np.float32)\n",
    "softmax = tf.nn.softmax(x, axis=-1)\n",
    "print(softmax.eval())\n",
    "print(tf.reduce_sum(softmax).eval())\n",
    "sess.close()"
   ]
  },
  {
   "cell_type": "markdown",
   "metadata": {},
   "source": [
    "## Loss of MLP"
   ]
  },
  {
   "cell_type": "markdown",
   "metadata": {},
   "source": [
    "$$\\text{Cross-entropy}= -\\sum^N_{i=1}p_i \\log q_i$$  \n"
   ]
  },
  {
   "cell_type": "code",
   "execution_count": 5,
   "metadata": {},
   "outputs": [
    {
     "name": "stdout",
     "output_type": "stream",
     "text": [
      "5.4784393\n"
     ]
    }
   ],
   "source": [
    "sess = tf.InteractiveSession()\n",
    "labels = tf.constant([0, 1, 0, 0], np.float32)\n",
    "\n",
    "weight_sum = tf.constant([4, -1.3, 1.1, 2], np.float32)\n",
    "softmax = tf.nn.softmax(weight_sum)\n",
    "loss = -tf.reduce_sum(labels * tf.log(softmax))\n",
    "print(loss.eval())\n",
    "sess.close()"
   ]
  }
 ],
 "metadata": {
  "kernelspec": {
   "display_name": "Python 3",
   "language": "python",
   "name": "python3"
  },
  "language_info": {
   "codemirror_mode": {
    "name": "ipython",
    "version": 3
   },
   "file_extension": ".py",
   "mimetype": "text/x-python",
   "name": "python",
   "nbconvert_exporter": "python",
   "pygments_lexer": "ipython3",
   "version": "3.6.3"
  }
 },
 "nbformat": 4,
 "nbformat_minor": 2
}
